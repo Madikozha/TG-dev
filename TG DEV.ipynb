{
 "cells": [
  {
   "cell_type": "code",
   "execution_count": null,
   "id": "8aaa5524",
   "metadata": {},
   "outputs": [],
   "source": [
    "import telebot\n",
    "from telebot import types\n",
    "import random as r\n",
    "\n",
    "token = \"6315733094:AAHP_ufTPEsjGJx9SO6L-dPeVyG1Tg5-Aac\"\n",
    "\n",
    "bot = telebot.TeleBot(token)\n",
    "\n",
    "@bot.message_handler(commands= ['start'])\n",
    "def start(message):\n",
    "    bot.reply_to(message,  \"UwU Nice to meet you!\\nLet's see which pinguin are you!\\nWrite '/go' to start\")\n",
    "\n",
    "@bot.message_handler(commands= ['go'])\n",
    "def go(message):\n",
    "    markup = types.ReplyKeyboardMarkup(resize_keyboard=True)\n",
    "    item1 = types.KeyboardButton(\"Let's GO!!!\")\n",
    "    markup.add(item1)\n",
    "    bot.send_message(message.chat.id, \"Are you ready!?!?!?\", reply_markup= markup)\n",
    "\n",
    "\n",
    "@bot.message_handler(content_types='text')\n",
    "def reply(message):\n",
    "    if message.text == \"Let's GO!!!\":\n",
    "        a = r.randint(1, 4)\n",
    "    if a == 1:\n",
    "        bot.send_message(message.chat.id,  \"Kawasaki 0:4 Second\\nhttps://www.youtube.com/watch?v=ZYQMX-Dth7E\")\n",
    "    elif a == 2:\n",
    "        bot.send_message(message.chat.id,  \"Cago 0:5 Second\\nhttps://www.youtube.com/watch?v=ZYQMX-Dth7E\")\n",
    "    elif a == 3:\n",
    "        bot.send_message(message.chat.id,  \"Krico 0:7 Second\\nhttps://www.youtube.com/watch?v=ZYQMX-Dth7E\")\n",
    "    else:\n",
    "        bot.send_message(message.chat.id,  \"Estripper 0:8 Second\\nhttps://www.youtube.com/watch?v=ZYQMX-Dth7E\")\n",
    "\n",
    "\n",
    "if __name__ == '__main__':\n",
    "    while True:\n",
    "        try:\n",
    "            bot.polling(none_stop=True)\n",
    "        except Exception as e:\n",
    "            time.sleep(3)\n",
    "            print(e)"
   ]
  }
 ],
 "metadata": {
  "kernelspec": {
   "display_name": "Python 3 (ipykernel)",
   "language": "python",
   "name": "python3"
  },
  "language_info": {
   "codemirror_mode": {
    "name": "ipython",
    "version": 3
   },
   "file_extension": ".py",
   "mimetype": "text/x-python",
   "name": "python",
   "nbconvert_exporter": "python",
   "pygments_lexer": "ipython3",
   "version": "3.10.9"
  }
 },
 "nbformat": 4,
 "nbformat_minor": 5
}
